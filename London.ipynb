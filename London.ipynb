{
 "cells": [
  {
   "cell_type": "code",
   "execution_count": 19,
   "metadata": {},
   "outputs": [],
   "source": [
    "import pandas as pd\n",
    "import seaborn as sns\n",
    "import matplotlib.pyplot as plt"
   ]
  },
  {
   "cell_type": "code",
   "execution_count": 23,
   "metadata": {},
   "outputs": [],
   "source": [
    "%matplotlib inline"
   ]
  },
  {
   "cell_type": "code",
   "execution_count": 24,
   "metadata": {},
   "outputs": [],
   "source": [
    "sns.set_theme()"
   ]
  },
  {
   "cell_type": "code",
   "execution_count": 12,
   "metadata": {},
   "outputs": [],
   "source": [
    "drinks_list = ['The Grenadier', 'De Hems Dutch Cafe Bar', 'The French House (wine)', 'Ye Olde Mitre, Holborn', 'Harrild & Sons', 'The Blackfriar', 'Ye Olde Watling', 'The Banker, EC4', 'The Arbitrager', 'The Crosse Keys', 'The Globe', 'The Hoop And Grapes', 'Bar Kick']\n",
    "drinks_df = pd.DataFrame(drinks_list, columns=['Name'])\n",
    "\n",
    "# Create a new column called Type and assign it the value 'Drinks'\n",
    "drinks_df['Type'] = 'Drinks'\n"
   ]
  },
  {
   "cell_type": "code",
   "execution_count": 13,
   "metadata": {},
   "outputs": [],
   "source": [
    "eateries_list = ['NOPI (Mediterranean)', 'Berenjak Soho (Iranian)', 'Barrafina (Spanish)', 'Blanchette (French)', 'The Blues Kitchen (Jazz Club w/ BBQ)', 'Peckham Levels (Food court)']\n",
    "eateries_df = pd.DataFrame(eateries_list, columns=['Name'])\n",
    "\n",
    "# Create a new column called Type and assign it the value 'Eateries'\n",
    "eateries_df['Type'] = 'Eateries'"
   ]
  },
  {
   "cell_type": "code",
   "execution_count": 14,
   "metadata": {},
   "outputs": [],
   "source": [
    "sites_list = ['Royal Botanic Gardens', 'Natural History, Science Museum, Victoria and Albert Museums(same building)', 'Hyde Park', 'Buckingham Palace', 'Westminster Abbey, Palace of Westminster, Westminster Bridge', 'Big Ben', 'London Eye (ferris wheel)', 'Trafalgar Square', 'The National Gallery', 'The British Museum', 'The Regents Park', 'Inverness Street Market', 'Camden Market', 'Kings Crossing (train station)', 'Millennium Bridge', 'St. Pauls Cathedral', 'London Bridge', 'The Shard', 'Columbia Road Flower Market', 'Victoria Park', 'Richmond Park']\n",
    "sites_df = pd.DataFrame(sites_list, columns=['Name'])\n",
    "\n",
    "# Create a new column called Type and assign it the value 'Sites'\n",
    "sites_df['Type'] = 'Sites'"
   ]
  },
  {
   "cell_type": "code",
   "execution_count": 15,
   "metadata": {},
   "outputs": [],
   "source": [
    "# Concatenate the three dataframes\n",
    "df = pd.concat([drinks_df, eateries_df, sites_df])"
   ]
  },
  {
   "cell_type": "code",
   "execution_count": 16,
   "metadata": {},
   "outputs": [
    {
     "data": {
      "text/html": [
       "<div>\n",
       "<style scoped>\n",
       "    .dataframe tbody tr th:only-of-type {\n",
       "        vertical-align: middle;\n",
       "    }\n",
       "\n",
       "    .dataframe tbody tr th {\n",
       "        vertical-align: top;\n",
       "    }\n",
       "\n",
       "    .dataframe thead th {\n",
       "        text-align: right;\n",
       "    }\n",
       "</style>\n",
       "<table border=\"1\" class=\"dataframe\">\n",
       "  <thead>\n",
       "    <tr style=\"text-align: right;\">\n",
       "      <th></th>\n",
       "      <th>Name</th>\n",
       "      <th>Type</th>\n",
       "    </tr>\n",
       "  </thead>\n",
       "  <tbody>\n",
       "    <tr>\n",
       "      <th>0</th>\n",
       "      <td>The Grenadier</td>\n",
       "      <td>Drinks</td>\n",
       "    </tr>\n",
       "    <tr>\n",
       "      <th>1</th>\n",
       "      <td>De Hems Dutch Cafe Bar</td>\n",
       "      <td>Drinks</td>\n",
       "    </tr>\n",
       "    <tr>\n",
       "      <th>2</th>\n",
       "      <td>The French House (wine)</td>\n",
       "      <td>Drinks</td>\n",
       "    </tr>\n",
       "    <tr>\n",
       "      <th>3</th>\n",
       "      <td>Ye Olde Mitre, Holborn</td>\n",
       "      <td>Drinks</td>\n",
       "    </tr>\n",
       "    <tr>\n",
       "      <th>4</th>\n",
       "      <td>Harrild &amp; Sons</td>\n",
       "      <td>Drinks</td>\n",
       "    </tr>\n",
       "    <tr>\n",
       "      <th>5</th>\n",
       "      <td>The Blackfriar</td>\n",
       "      <td>Drinks</td>\n",
       "    </tr>\n",
       "    <tr>\n",
       "      <th>6</th>\n",
       "      <td>Ye Olde Watling</td>\n",
       "      <td>Drinks</td>\n",
       "    </tr>\n",
       "    <tr>\n",
       "      <th>7</th>\n",
       "      <td>The Banker, EC4</td>\n",
       "      <td>Drinks</td>\n",
       "    </tr>\n",
       "    <tr>\n",
       "      <th>8</th>\n",
       "      <td>The Arbitrager</td>\n",
       "      <td>Drinks</td>\n",
       "    </tr>\n",
       "    <tr>\n",
       "      <th>9</th>\n",
       "      <td>The Crosse Keys</td>\n",
       "      <td>Drinks</td>\n",
       "    </tr>\n",
       "    <tr>\n",
       "      <th>10</th>\n",
       "      <td>The Globe</td>\n",
       "      <td>Drinks</td>\n",
       "    </tr>\n",
       "    <tr>\n",
       "      <th>11</th>\n",
       "      <td>The Hoop And Grapes</td>\n",
       "      <td>Drinks</td>\n",
       "    </tr>\n",
       "    <tr>\n",
       "      <th>12</th>\n",
       "      <td>Bar Kick</td>\n",
       "      <td>Drinks</td>\n",
       "    </tr>\n",
       "    <tr>\n",
       "      <th>0</th>\n",
       "      <td>NOPI (Mediterranean)</td>\n",
       "      <td>Eateries</td>\n",
       "    </tr>\n",
       "    <tr>\n",
       "      <th>1</th>\n",
       "      <td>Berenjak Soho (Iranian)</td>\n",
       "      <td>Eateries</td>\n",
       "    </tr>\n",
       "    <tr>\n",
       "      <th>2</th>\n",
       "      <td>Barrafina (Spanish)</td>\n",
       "      <td>Eateries</td>\n",
       "    </tr>\n",
       "    <tr>\n",
       "      <th>3</th>\n",
       "      <td>Blanchette (French)</td>\n",
       "      <td>Eateries</td>\n",
       "    </tr>\n",
       "    <tr>\n",
       "      <th>4</th>\n",
       "      <td>The Blues Kitchen (Jazz Club w/ BBQ)</td>\n",
       "      <td>Eateries</td>\n",
       "    </tr>\n",
       "    <tr>\n",
       "      <th>5</th>\n",
       "      <td>Peckham Levels (Food court)</td>\n",
       "      <td>Eateries</td>\n",
       "    </tr>\n",
       "    <tr>\n",
       "      <th>0</th>\n",
       "      <td>Royal Botanic Gardens</td>\n",
       "      <td>Sites</td>\n",
       "    </tr>\n",
       "    <tr>\n",
       "      <th>1</th>\n",
       "      <td>Natural History, Science Museum, Victoria and ...</td>\n",
       "      <td>Sites</td>\n",
       "    </tr>\n",
       "    <tr>\n",
       "      <th>2</th>\n",
       "      <td>Hyde Park</td>\n",
       "      <td>Sites</td>\n",
       "    </tr>\n",
       "    <tr>\n",
       "      <th>3</th>\n",
       "      <td>Buckingham Palace</td>\n",
       "      <td>Sites</td>\n",
       "    </tr>\n",
       "    <tr>\n",
       "      <th>4</th>\n",
       "      <td>Westminster Abbey, Palace of Westminster, West...</td>\n",
       "      <td>Sites</td>\n",
       "    </tr>\n",
       "    <tr>\n",
       "      <th>5</th>\n",
       "      <td>Big Ben</td>\n",
       "      <td>Sites</td>\n",
       "    </tr>\n",
       "    <tr>\n",
       "      <th>6</th>\n",
       "      <td>London Eye (ferris wheel)</td>\n",
       "      <td>Sites</td>\n",
       "    </tr>\n",
       "    <tr>\n",
       "      <th>7</th>\n",
       "      <td>Trafalgar Square</td>\n",
       "      <td>Sites</td>\n",
       "    </tr>\n",
       "    <tr>\n",
       "      <th>8</th>\n",
       "      <td>The National Gallery</td>\n",
       "      <td>Sites</td>\n",
       "    </tr>\n",
       "    <tr>\n",
       "      <th>9</th>\n",
       "      <td>The British Museum</td>\n",
       "      <td>Sites</td>\n",
       "    </tr>\n",
       "    <tr>\n",
       "      <th>10</th>\n",
       "      <td>The Regents Park</td>\n",
       "      <td>Sites</td>\n",
       "    </tr>\n",
       "    <tr>\n",
       "      <th>11</th>\n",
       "      <td>Inverness Street Market</td>\n",
       "      <td>Sites</td>\n",
       "    </tr>\n",
       "    <tr>\n",
       "      <th>12</th>\n",
       "      <td>Camden Market</td>\n",
       "      <td>Sites</td>\n",
       "    </tr>\n",
       "    <tr>\n",
       "      <th>13</th>\n",
       "      <td>Kings Crossing (train station)</td>\n",
       "      <td>Sites</td>\n",
       "    </tr>\n",
       "    <tr>\n",
       "      <th>14</th>\n",
       "      <td>Millennium Bridge</td>\n",
       "      <td>Sites</td>\n",
       "    </tr>\n",
       "    <tr>\n",
       "      <th>15</th>\n",
       "      <td>St. Pauls Cathedral</td>\n",
       "      <td>Sites</td>\n",
       "    </tr>\n",
       "    <tr>\n",
       "      <th>16</th>\n",
       "      <td>London Bridge</td>\n",
       "      <td>Sites</td>\n",
       "    </tr>\n",
       "    <tr>\n",
       "      <th>17</th>\n",
       "      <td>The Shard</td>\n",
       "      <td>Sites</td>\n",
       "    </tr>\n",
       "    <tr>\n",
       "      <th>18</th>\n",
       "      <td>Columbia Road Flower Market</td>\n",
       "      <td>Sites</td>\n",
       "    </tr>\n",
       "    <tr>\n",
       "      <th>19</th>\n",
       "      <td>Victoria Park</td>\n",
       "      <td>Sites</td>\n",
       "    </tr>\n",
       "    <tr>\n",
       "      <th>20</th>\n",
       "      <td>Richmond Park</td>\n",
       "      <td>Sites</td>\n",
       "    </tr>\n",
       "  </tbody>\n",
       "</table>\n",
       "</div>"
      ],
      "text/plain": [
       "                                                 Name      Type\n",
       "0                                       The Grenadier    Drinks\n",
       "1                              De Hems Dutch Cafe Bar    Drinks\n",
       "2                             The French House (wine)    Drinks\n",
       "3                              Ye Olde Mitre, Holborn    Drinks\n",
       "4                                      Harrild & Sons    Drinks\n",
       "5                                      The Blackfriar    Drinks\n",
       "6                                     Ye Olde Watling    Drinks\n",
       "7                                     The Banker, EC4    Drinks\n",
       "8                                      The Arbitrager    Drinks\n",
       "9                                     The Crosse Keys    Drinks\n",
       "10                                          The Globe    Drinks\n",
       "11                                The Hoop And Grapes    Drinks\n",
       "12                                           Bar Kick    Drinks\n",
       "0                                NOPI (Mediterranean)  Eateries\n",
       "1                             Berenjak Soho (Iranian)  Eateries\n",
       "2                                 Barrafina (Spanish)  Eateries\n",
       "3                                 Blanchette (French)  Eateries\n",
       "4                The Blues Kitchen (Jazz Club w/ BBQ)  Eateries\n",
       "5                         Peckham Levels (Food court)  Eateries\n",
       "0                               Royal Botanic Gardens     Sites\n",
       "1   Natural History, Science Museum, Victoria and ...     Sites\n",
       "2                                           Hyde Park     Sites\n",
       "3                                   Buckingham Palace     Sites\n",
       "4   Westminster Abbey, Palace of Westminster, West...     Sites\n",
       "5                                             Big Ben     Sites\n",
       "6                           London Eye (ferris wheel)     Sites\n",
       "7                                    Trafalgar Square     Sites\n",
       "8                                The National Gallery     Sites\n",
       "9                                  The British Museum     Sites\n",
       "10                                   The Regents Park     Sites\n",
       "11                            Inverness Street Market     Sites\n",
       "12                                      Camden Market     Sites\n",
       "13                     Kings Crossing (train station)     Sites\n",
       "14                                  Millennium Bridge     Sites\n",
       "15                                St. Pauls Cathedral     Sites\n",
       "16                                      London Bridge     Sites\n",
       "17                                          The Shard     Sites\n",
       "18                        Columbia Road Flower Market     Sites\n",
       "19                                      Victoria Park     Sites\n",
       "20                                      Richmond Park     Sites"
      ]
     },
     "execution_count": 16,
     "metadata": {},
     "output_type": "execute_result"
    }
   ],
   "source": [
    "df"
   ]
  },
  {
   "cell_type": "code",
   "execution_count": 42,
   "metadata": {},
   "outputs": [
    {
     "data": {
      "text/plain": [
       "<AxesSubplot: xlabel='count', ylabel='Type'>"
      ]
     },
     "execution_count": 42,
     "metadata": {},
     "output_type": "execute_result"
    },
    {
     "data": {
      "image/png": "[encoded data removed]",
      "text/plain": [
       "<Figure size 640x480 with 1 Axes>"
      ]
     },
     "metadata": {},
     "output_type": "display_data"
    }
   ],
   "source": [
    "# Create a Seaborn chart to show the count of each type as a bar chart and sort the bars by the Type column\n",
    "sns.countplot(data=df, y='Type', order=df['Type'].value_counts().index, palette='coolwarm', saturation=0.75, width=0.7)"
   ]
  },
  {
   "cell_type": "code",
   "execution_count": 45,
   "metadata": {},
   "outputs": [
    {
     "data": {
      "text/plain": [
       "([<matplotlib.patches.Wedge at 0x18a93548c70>,\n",
       "  <matplotlib.patches.Wedge at 0x18a935572e0>,\n",
       "  <matplotlib.patches.Wedge at 0x18a93557910>],\n",
       " [Text(-1.1963008075317862, -0.09415082526880214, 'Sites'),\n",
       "  Text(1.0162674069376982, -0.42095196590125, 'Drinks'),\n",
       "  Text(0.49938975159485594, 0.9801070737434907, 'Eateries')],\n",
       " [Text(-0.6978421377268752, -0.05492131474013458, '52.5%'),\n",
       "  Text(0.5543276765114717, -0.2296101632188636, '32.5%'),\n",
       "  Text(0.2723944099608305, 0.5346038584055404, '15.0%')])"
      ]
     },
     "execution_count": 45,
     "metadata": {},
     "output_type": "execute_result"
    },
    {
     "data": {
      "image/png": "[encoded data removed]",
      "text/plain": [
       "<Figure size 640x480 with 1 Axes>"
      ]
     },
     "metadata": {},
     "output_type": "display_data"
    }
   ],
   "source": [
    "# Create a pie chart with seabrn palette and matplotlib plt\n",
    "plt.pie(df['Type'].value_counts(), labels=df['Type'].value_counts().index, autopct='%1.1f%%', colors=sns.color_palette('rocket', 3), startangle=90, explode=[0.1, 0.0, 0.0])"
   ]
  }
 ],
 "metadata": {
  "kernelspec": {
   "display_name": ".venv",
   "language": "python",
   "name": "python3"
  },
  "language_info": {
   "codemirror_mode": {
    "name": "ipython",
    "version": 3
   },
   "file_extension": ".py",
   "mimetype": "text/x-python",
   "name": "python",
   "nbconvert_exporter": "python",
   "pygments_lexer": "ipython3",
   "version": "3.9.1"
  },
  "orig_nbformat": 4,
  "vscode": {
   "interpreter": {
    "hash": "f963f44d53dfc1ff84d3e9e5994038273f26be1a8694d2bcb69219961a61eba4"
   }
  }
 },
 "nbformat": 4,
 "nbformat_minor": 2
}
